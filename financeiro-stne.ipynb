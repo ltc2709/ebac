{
 "cells": [
  {
   "cell_type": "markdown",
   "id": "4d0350b7",
   "metadata": {
    "papermill": {
     "duration": 0.017523,
     "end_time": "2023-12-30T17:41:55.870899",
     "exception": false,
     "start_time": "2023-12-30T17:41:55.853376",
     "status": "completed"
    },
    "tags": []
   },
   "source": [
    "# Análise de inadimplência"
   ]
  },
  {
   "cell_type": "markdown",
   "id": "68ca963a",
   "metadata": {
    "papermill": {
     "duration": 0.016463,
     "end_time": "2023-12-30T17:41:55.905098",
     "exception": false,
     "start_time": "2023-12-30T17:41:55.888635",
     "status": "completed"
    },
    "tags": []
   },
   "source": [
    "Neste projeto, utilizamos técnicas de análise de dados para identificar os fatores que mais contribuem para a inadimplência em uma instituição financeira"
   ]
  },
  {
   "cell_type": "markdown",
   "id": "06b29ab2",
   "metadata": {
    "papermill": {
     "duration": 0.016197,
     "end_time": "2023-12-30T17:41:55.937935",
     "exception": false,
     "start_time": "2023-12-30T17:41:55.921738",
     "status": "completed"
    },
    "tags": []
   },
   "source": [
    "# Extração dos dados"
   ]
  },
  {
   "cell_type": "code",
   "execution_count": 1,
   "id": "a36c51b2",
   "metadata": {
    "execution": {
     "iopub.execute_input": "2023-12-30T17:41:55.973438Z",
     "iopub.status.busy": "2023-12-30T17:41:55.972942Z",
     "iopub.status.idle": "2023-12-30T17:41:58.083642Z",
     "shell.execute_reply": "2023-12-30T17:41:58.082419Z"
    },
    "papermill": {
     "duration": 2.132273,
     "end_time": "2023-12-30T17:41:58.086900",
     "exception": false,
     "start_time": "2023-12-30T17:41:55.954627",
     "status": "completed"
    },
    "tags": []
   },
   "outputs": [],
   "source": [
    "import pandas as pd\n",
    "import seaborn as sns\n",
    "import matplotlib.pyplot as plt\n",
    "\n",
    "sns.set_style(\"whitegrid\")"
   ]
  },
  {
   "cell_type": "code",
   "execution_count": 2,
   "id": "d2123031",
   "metadata": {
    "execution": {
     "iopub.execute_input": "2023-12-30T17:41:58.123852Z",
     "iopub.status.busy": "2023-12-30T17:41:58.123283Z",
     "iopub.status.idle": "2023-12-30T17:41:58.202397Z",
     "shell.execute_reply": "2023-12-30T17:41:58.201173Z"
    },
    "papermill": {
     "duration": 0.101534,
     "end_time": "2023-12-30T17:41:58.205395",
     "exception": false,
     "start_time": "2023-12-30T17:41:58.103861",
     "status": "completed"
    },
    "tags": []
   },
   "outputs": [],
   "source": [
    "df = pd.read_csv(\"/kaggle/input/financeiro/Inadimplncia_financeiro.csv\", na_values=\"na\")"
   ]
  },
  {
   "cell_type": "code",
   "execution_count": 3,
   "id": "a438688e",
   "metadata": {
    "execution": {
     "iopub.execute_input": "2023-12-30T17:41:58.241667Z",
     "iopub.status.busy": "2023-12-30T17:41:58.241271Z",
     "iopub.status.idle": "2023-12-30T17:41:58.274921Z",
     "shell.execute_reply": "2023-12-30T17:41:58.273471Z"
    },
    "papermill": {
     "duration": 0.055737,
     "end_time": "2023-12-30T17:41:58.278042",
     "exception": false,
     "start_time": "2023-12-30T17:41:58.222305",
     "status": "completed"
    },
    "tags": []
   },
   "outputs": [
    {
     "data": {
      "text/html": [
       "<div>\n",
       "<style scoped>\n",
       "    .dataframe tbody tr th:only-of-type {\n",
       "        vertical-align: middle;\n",
       "    }\n",
       "\n",
       "    .dataframe tbody tr th {\n",
       "        vertical-align: top;\n",
       "    }\n",
       "\n",
       "    .dataframe thead th {\n",
       "        text-align: right;\n",
       "    }\n",
       "</style>\n",
       "<table border=\"1\" class=\"dataframe\">\n",
       "  <thead>\n",
       "    <tr style=\"text-align: right;\">\n",
       "      <th></th>\n",
       "      <th>id</th>\n",
       "      <th>default</th>\n",
       "      <th>idade</th>\n",
       "      <th>sexo</th>\n",
       "      <th>dependentes</th>\n",
       "      <th>escolaridade</th>\n",
       "      <th>estado_civil</th>\n",
       "      <th>salario_anual</th>\n",
       "      <th>tipo_cartao</th>\n",
       "      <th>meses_de_relacionamento</th>\n",
       "      <th>qtd_produtos</th>\n",
       "      <th>iteracoes_12m</th>\n",
       "      <th>meses_inativo_12m</th>\n",
       "      <th>limite_credito</th>\n",
       "      <th>valor_transacoes_12m</th>\n",
       "      <th>qtd_transacoes_12m</th>\n",
       "    </tr>\n",
       "  </thead>\n",
       "  <tbody>\n",
       "    <tr>\n",
       "      <th>0</th>\n",
       "      <td>768805383</td>\n",
       "      <td>0</td>\n",
       "      <td>45</td>\n",
       "      <td>M</td>\n",
       "      <td>3</td>\n",
       "      <td>ensino medio</td>\n",
       "      <td>casado</td>\n",
       "      <td>$60K - $80K</td>\n",
       "      <td>blue</td>\n",
       "      <td>39</td>\n",
       "      <td>5</td>\n",
       "      <td>3</td>\n",
       "      <td>1</td>\n",
       "      <td>12.691,51</td>\n",
       "      <td>1.144,90</td>\n",
       "      <td>42</td>\n",
       "    </tr>\n",
       "    <tr>\n",
       "      <th>1</th>\n",
       "      <td>818770008</td>\n",
       "      <td>0</td>\n",
       "      <td>49</td>\n",
       "      <td>F</td>\n",
       "      <td>5</td>\n",
       "      <td>mestrado</td>\n",
       "      <td>solteiro</td>\n",
       "      <td>menos que $40K</td>\n",
       "      <td>blue</td>\n",
       "      <td>44</td>\n",
       "      <td>6</td>\n",
       "      <td>2</td>\n",
       "      <td>1</td>\n",
       "      <td>8.256,96</td>\n",
       "      <td>1.291,45</td>\n",
       "      <td>33</td>\n",
       "    </tr>\n",
       "    <tr>\n",
       "      <th>2</th>\n",
       "      <td>713982108</td>\n",
       "      <td>0</td>\n",
       "      <td>51</td>\n",
       "      <td>M</td>\n",
       "      <td>3</td>\n",
       "      <td>mestrado</td>\n",
       "      <td>casado</td>\n",
       "      <td>$80K - $120K</td>\n",
       "      <td>blue</td>\n",
       "      <td>36</td>\n",
       "      <td>4</td>\n",
       "      <td>0</td>\n",
       "      <td>1</td>\n",
       "      <td>3.418,56</td>\n",
       "      <td>1.887,72</td>\n",
       "      <td>20</td>\n",
       "    </tr>\n",
       "    <tr>\n",
       "      <th>3</th>\n",
       "      <td>769911858</td>\n",
       "      <td>0</td>\n",
       "      <td>40</td>\n",
       "      <td>F</td>\n",
       "      <td>4</td>\n",
       "      <td>ensino medio</td>\n",
       "      <td>NaN</td>\n",
       "      <td>menos que $40K</td>\n",
       "      <td>blue</td>\n",
       "      <td>34</td>\n",
       "      <td>3</td>\n",
       "      <td>1</td>\n",
       "      <td>4</td>\n",
       "      <td>3.313,03</td>\n",
       "      <td>1.171,56</td>\n",
       "      <td>20</td>\n",
       "    </tr>\n",
       "    <tr>\n",
       "      <th>4</th>\n",
       "      <td>709106358</td>\n",
       "      <td>0</td>\n",
       "      <td>40</td>\n",
       "      <td>M</td>\n",
       "      <td>3</td>\n",
       "      <td>sem educacao formal</td>\n",
       "      <td>casado</td>\n",
       "      <td>$60K - $80K</td>\n",
       "      <td>blue</td>\n",
       "      <td>21</td>\n",
       "      <td>5</td>\n",
       "      <td>0</td>\n",
       "      <td>1</td>\n",
       "      <td>4.716,22</td>\n",
       "      <td>816,08</td>\n",
       "      <td>28</td>\n",
       "    </tr>\n",
       "  </tbody>\n",
       "</table>\n",
       "</div>"
      ],
      "text/plain": [
       "          id  default  idade sexo  dependentes         escolaridade  \\\n",
       "0  768805383        0     45    M            3         ensino medio   \n",
       "1  818770008        0     49    F            5             mestrado   \n",
       "2  713982108        0     51    M            3             mestrado   \n",
       "3  769911858        0     40    F            4         ensino medio   \n",
       "4  709106358        0     40    M            3  sem educacao formal   \n",
       "\n",
       "  estado_civil   salario_anual tipo_cartao  meses_de_relacionamento  \\\n",
       "0       casado     $60K - $80K        blue                       39   \n",
       "1     solteiro  menos que $40K        blue                       44   \n",
       "2       casado    $80K - $120K        blue                       36   \n",
       "3          NaN  menos que $40K        blue                       34   \n",
       "4       casado     $60K - $80K        blue                       21   \n",
       "\n",
       "   qtd_produtos  iteracoes_12m  meses_inativo_12m limite_credito  \\\n",
       "0             5              3                  1      12.691,51   \n",
       "1             6              2                  1       8.256,96   \n",
       "2             4              0                  1       3.418,56   \n",
       "3             3              1                  4       3.313,03   \n",
       "4             5              0                  1       4.716,22   \n",
       "\n",
       "  valor_transacoes_12m  qtd_transacoes_12m  \n",
       "0             1.144,90                  42  \n",
       "1             1.291,45                  33  \n",
       "2             1.887,72                  20  \n",
       "3             1.171,56                  20  \n",
       "4               816,08                  28  "
      ]
     },
     "execution_count": 3,
     "metadata": {},
     "output_type": "execute_result"
    }
   ],
   "source": [
    "df.head(n=5)"
   ]
  },
  {
   "cell_type": "markdown",
   "id": "83adb3a1",
   "metadata": {
    "papermill": {
     "duration": 0.017691,
     "end_time": "2023-12-30T17:41:58.313534",
     "exception": false,
     "start_time": "2023-12-30T17:41:58.295843",
     "status": "completed"
    },
    "tags": []
   },
   "source": [
    "Na tabela a cima podemos ver que existem alguns atributos em branco que estao sendo sinalizados como NaN. vamos lidar com eles na parte de estrutura e filtragem e limpeza dos dados."
   ]
  },
  {
   "cell_type": "markdown",
   "id": "c7f95af6",
   "metadata": {
    "papermill": {
     "duration": 0.017357,
     "end_time": "2023-12-30T17:41:58.348794",
     "exception": false,
     "start_time": "2023-12-30T17:41:58.331437",
     "status": "completed"
    },
    "tags": []
   },
   "source": [
    "# Estruturando dos dados"
   ]
  },
  {
   "cell_type": "code",
   "execution_count": 4,
   "id": "eaa292e1",
   "metadata": {
    "execution": {
     "iopub.execute_input": "2023-12-30T17:41:58.385607Z",
     "iopub.status.busy": "2023-12-30T17:41:58.385211Z",
     "iopub.status.idle": "2023-12-30T17:41:58.395363Z",
     "shell.execute_reply": "2023-12-30T17:41:58.393852Z"
    },
    "papermill": {
     "duration": 0.032142,
     "end_time": "2023-12-30T17:41:58.398069",
     "exception": false,
     "start_time": "2023-12-30T17:41:58.365927",
     "status": "completed"
    },
    "tags": []
   },
   "outputs": [
    {
     "data": {
      "text/plain": [
       "id                          int64\n",
       "default                     int64\n",
       "idade                       int64\n",
       "sexo                       object\n",
       "dependentes                 int64\n",
       "escolaridade               object\n",
       "estado_civil               object\n",
       "salario_anual              object\n",
       "tipo_cartao                object\n",
       "meses_de_relacionamento     int64\n",
       "qtd_produtos                int64\n",
       "iteracoes_12m               int64\n",
       "meses_inativo_12m           int64\n",
       "limite_credito             object\n",
       "valor_transacoes_12m       object\n",
       "qtd_transacoes_12m          int64\n",
       "dtype: object"
      ]
     },
     "execution_count": 4,
     "metadata": {},
     "output_type": "execute_result"
    }
   ],
   "source": [
    "df.dtypes"
   ]
  },
  {
   "cell_type": "code",
   "execution_count": 5,
   "id": "9dbcf2ce",
   "metadata": {
    "execution": {
     "iopub.execute_input": "2023-12-30T17:41:58.436849Z",
     "iopub.status.busy": "2023-12-30T17:41:58.436461Z",
     "iopub.status.idle": "2023-12-30T17:41:58.477861Z",
     "shell.execute_reply": "2023-12-30T17:41:58.476420Z"
    },
    "papermill": {
     "duration": 0.063396,
     "end_time": "2023-12-30T17:41:58.480842",
     "exception": false,
     "start_time": "2023-12-30T17:41:58.417446",
     "status": "completed"
    },
    "tags": []
   },
   "outputs": [
    {
     "data": {
      "text/html": [
       "<div>\n",
       "<style scoped>\n",
       "    .dataframe tbody tr th:only-of-type {\n",
       "        vertical-align: middle;\n",
       "    }\n",
       "\n",
       "    .dataframe tbody tr th {\n",
       "        vertical-align: top;\n",
       "    }\n",
       "\n",
       "    .dataframe thead th {\n",
       "        text-align: right;\n",
       "    }\n",
       "</style>\n",
       "<table border=\"1\" class=\"dataframe\">\n",
       "  <thead>\n",
       "    <tr style=\"text-align: right;\">\n",
       "      <th></th>\n",
       "      <th>default</th>\n",
       "      <th>idade</th>\n",
       "      <th>sexo</th>\n",
       "      <th>dependentes</th>\n",
       "      <th>escolaridade</th>\n",
       "      <th>estado_civil</th>\n",
       "      <th>salario_anual</th>\n",
       "      <th>tipo_cartao</th>\n",
       "      <th>meses_de_relacionamento</th>\n",
       "      <th>qtd_produtos</th>\n",
       "      <th>iteracoes_12m</th>\n",
       "      <th>meses_inativo_12m</th>\n",
       "      <th>limite_credito</th>\n",
       "      <th>valor_transacoes_12m</th>\n",
       "      <th>qtd_transacoes_12m</th>\n",
       "    </tr>\n",
       "  </thead>\n",
       "  <tbody>\n",
       "    <tr>\n",
       "      <th>0</th>\n",
       "      <td>0</td>\n",
       "      <td>45</td>\n",
       "      <td>M</td>\n",
       "      <td>3</td>\n",
       "      <td>ensino medio</td>\n",
       "      <td>casado</td>\n",
       "      <td>$60K - $80K</td>\n",
       "      <td>blue</td>\n",
       "      <td>39</td>\n",
       "      <td>5</td>\n",
       "      <td>3</td>\n",
       "      <td>1</td>\n",
       "      <td>12.691,51</td>\n",
       "      <td>1.144,90</td>\n",
       "      <td>42</td>\n",
       "    </tr>\n",
       "    <tr>\n",
       "      <th>1</th>\n",
       "      <td>0</td>\n",
       "      <td>49</td>\n",
       "      <td>F</td>\n",
       "      <td>5</td>\n",
       "      <td>mestrado</td>\n",
       "      <td>solteiro</td>\n",
       "      <td>menos que $40K</td>\n",
       "      <td>blue</td>\n",
       "      <td>44</td>\n",
       "      <td>6</td>\n",
       "      <td>2</td>\n",
       "      <td>1</td>\n",
       "      <td>8.256,96</td>\n",
       "      <td>1.291,45</td>\n",
       "      <td>33</td>\n",
       "    </tr>\n",
       "    <tr>\n",
       "      <th>2</th>\n",
       "      <td>0</td>\n",
       "      <td>51</td>\n",
       "      <td>M</td>\n",
       "      <td>3</td>\n",
       "      <td>mestrado</td>\n",
       "      <td>casado</td>\n",
       "      <td>$80K - $120K</td>\n",
       "      <td>blue</td>\n",
       "      <td>36</td>\n",
       "      <td>4</td>\n",
       "      <td>0</td>\n",
       "      <td>1</td>\n",
       "      <td>3.418,56</td>\n",
       "      <td>1.887,72</td>\n",
       "      <td>20</td>\n",
       "    </tr>\n",
       "    <tr>\n",
       "      <th>3</th>\n",
       "      <td>0</td>\n",
       "      <td>40</td>\n",
       "      <td>F</td>\n",
       "      <td>4</td>\n",
       "      <td>ensino medio</td>\n",
       "      <td>NaN</td>\n",
       "      <td>menos que $40K</td>\n",
       "      <td>blue</td>\n",
       "      <td>34</td>\n",
       "      <td>3</td>\n",
       "      <td>1</td>\n",
       "      <td>4</td>\n",
       "      <td>3.313,03</td>\n",
       "      <td>1.171,56</td>\n",
       "      <td>20</td>\n",
       "    </tr>\n",
       "    <tr>\n",
       "      <th>4</th>\n",
       "      <td>0</td>\n",
       "      <td>40</td>\n",
       "      <td>M</td>\n",
       "      <td>3</td>\n",
       "      <td>sem educacao formal</td>\n",
       "      <td>casado</td>\n",
       "      <td>$60K - $80K</td>\n",
       "      <td>blue</td>\n",
       "      <td>21</td>\n",
       "      <td>5</td>\n",
       "      <td>0</td>\n",
       "      <td>1</td>\n",
       "      <td>4.716,22</td>\n",
       "      <td>816,08</td>\n",
       "      <td>28</td>\n",
       "    </tr>\n",
       "    <tr>\n",
       "      <th>...</th>\n",
       "      <td>...</td>\n",
       "      <td>...</td>\n",
       "      <td>...</td>\n",
       "      <td>...</td>\n",
       "      <td>...</td>\n",
       "      <td>...</td>\n",
       "      <td>...</td>\n",
       "      <td>...</td>\n",
       "      <td>...</td>\n",
       "      <td>...</td>\n",
       "      <td>...</td>\n",
       "      <td>...</td>\n",
       "      <td>...</td>\n",
       "      <td>...</td>\n",
       "      <td>...</td>\n",
       "    </tr>\n",
       "    <tr>\n",
       "      <th>10122</th>\n",
       "      <td>0</td>\n",
       "      <td>50</td>\n",
       "      <td>M</td>\n",
       "      <td>2</td>\n",
       "      <td>mestrado</td>\n",
       "      <td>solteiro</td>\n",
       "      <td>$40K - $60K</td>\n",
       "      <td>blue</td>\n",
       "      <td>40</td>\n",
       "      <td>3</td>\n",
       "      <td>3</td>\n",
       "      <td>2</td>\n",
       "      <td>4.003,91</td>\n",
       "      <td>15.476,26</td>\n",
       "      <td>117</td>\n",
       "    </tr>\n",
       "    <tr>\n",
       "      <th>10123</th>\n",
       "      <td>1</td>\n",
       "      <td>41</td>\n",
       "      <td>M</td>\n",
       "      <td>2</td>\n",
       "      <td>NaN</td>\n",
       "      <td>divorciado</td>\n",
       "      <td>$40K - $60K</td>\n",
       "      <td>blue</td>\n",
       "      <td>25</td>\n",
       "      <td>4</td>\n",
       "      <td>3</td>\n",
       "      <td>2</td>\n",
       "      <td>4.277,04</td>\n",
       "      <td>8.764,88</td>\n",
       "      <td>69</td>\n",
       "    </tr>\n",
       "    <tr>\n",
       "      <th>10124</th>\n",
       "      <td>1</td>\n",
       "      <td>44</td>\n",
       "      <td>F</td>\n",
       "      <td>1</td>\n",
       "      <td>ensino medio</td>\n",
       "      <td>casado</td>\n",
       "      <td>menos que $40K</td>\n",
       "      <td>blue</td>\n",
       "      <td>36</td>\n",
       "      <td>5</td>\n",
       "      <td>4</td>\n",
       "      <td>3</td>\n",
       "      <td>5.409,16</td>\n",
       "      <td>10.291,78</td>\n",
       "      <td>60</td>\n",
       "    </tr>\n",
       "    <tr>\n",
       "      <th>10125</th>\n",
       "      <td>1</td>\n",
       "      <td>30</td>\n",
       "      <td>M</td>\n",
       "      <td>2</td>\n",
       "      <td>mestrado</td>\n",
       "      <td>NaN</td>\n",
       "      <td>$40K - $60K</td>\n",
       "      <td>blue</td>\n",
       "      <td>36</td>\n",
       "      <td>4</td>\n",
       "      <td>3</td>\n",
       "      <td>3</td>\n",
       "      <td>5.281,84</td>\n",
       "      <td>8.395,62</td>\n",
       "      <td>62</td>\n",
       "    </tr>\n",
       "    <tr>\n",
       "      <th>10126</th>\n",
       "      <td>1</td>\n",
       "      <td>43</td>\n",
       "      <td>F</td>\n",
       "      <td>2</td>\n",
       "      <td>mestrado</td>\n",
       "      <td>casado</td>\n",
       "      <td>menos que $40K</td>\n",
       "      <td>silver</td>\n",
       "      <td>25</td>\n",
       "      <td>6</td>\n",
       "      <td>4</td>\n",
       "      <td>2</td>\n",
       "      <td>10.388,80</td>\n",
       "      <td>10.294,96</td>\n",
       "      <td>61</td>\n",
       "    </tr>\n",
       "  </tbody>\n",
       "</table>\n",
       "<p>10127 rows × 15 columns</p>\n",
       "</div>"
      ],
      "text/plain": [
       "       default  idade sexo  dependentes         escolaridade estado_civil  \\\n",
       "0            0     45    M            3         ensino medio       casado   \n",
       "1            0     49    F            5             mestrado     solteiro   \n",
       "2            0     51    M            3             mestrado       casado   \n",
       "3            0     40    F            4         ensino medio          NaN   \n",
       "4            0     40    M            3  sem educacao formal       casado   \n",
       "...        ...    ...  ...          ...                  ...          ...   \n",
       "10122        0     50    M            2             mestrado     solteiro   \n",
       "10123        1     41    M            2                  NaN   divorciado   \n",
       "10124        1     44    F            1         ensino medio       casado   \n",
       "10125        1     30    M            2             mestrado          NaN   \n",
       "10126        1     43    F            2             mestrado       casado   \n",
       "\n",
       "        salario_anual tipo_cartao  meses_de_relacionamento  qtd_produtos  \\\n",
       "0         $60K - $80K        blue                       39             5   \n",
       "1      menos que $40K        blue                       44             6   \n",
       "2        $80K - $120K        blue                       36             4   \n",
       "3      menos que $40K        blue                       34             3   \n",
       "4         $60K - $80K        blue                       21             5   \n",
       "...               ...         ...                      ...           ...   \n",
       "10122     $40K - $60K        blue                       40             3   \n",
       "10123     $40K - $60K        blue                       25             4   \n",
       "10124  menos que $40K        blue                       36             5   \n",
       "10125     $40K - $60K        blue                       36             4   \n",
       "10126  menos que $40K      silver                       25             6   \n",
       "\n",
       "       iteracoes_12m  meses_inativo_12m limite_credito valor_transacoes_12m  \\\n",
       "0                  3                  1      12.691,51             1.144,90   \n",
       "1                  2                  1       8.256,96             1.291,45   \n",
       "2                  0                  1       3.418,56             1.887,72   \n",
       "3                  1                  4       3.313,03             1.171,56   \n",
       "4                  0                  1       4.716,22               816,08   \n",
       "...              ...                ...            ...                  ...   \n",
       "10122              3                  2       4.003,91            15.476,26   \n",
       "10123              3                  2       4.277,04             8.764,88   \n",
       "10124              4                  3       5.409,16            10.291,78   \n",
       "10125              3                  3       5.281,84             8.395,62   \n",
       "10126              4                  2      10.388,80            10.294,96   \n",
       "\n",
       "       qtd_transacoes_12m  \n",
       "0                      42  \n",
       "1                      33  \n",
       "2                      20  \n",
       "3                      20  \n",
       "4                      28  \n",
       "...                   ...  \n",
       "10122                 117  \n",
       "10123                  69  \n",
       "10124                  60  \n",
       "10125                  62  \n",
       "10126                  61  \n",
       "\n",
       "[10127 rows x 15 columns]"
      ]
     },
     "execution_count": 5,
     "metadata": {},
     "output_type": "execute_result"
    }
   ],
   "source": [
    "df.drop(\"id\",axis=1)"
   ]
  },
  {
   "cell_type": "code",
   "execution_count": 6,
   "id": "828ab3ec",
   "metadata": {
    "execution": {
     "iopub.execute_input": "2023-12-30T17:41:58.518734Z",
     "iopub.status.busy": "2023-12-30T17:41:58.518318Z",
     "iopub.status.idle": "2023-12-30T17:41:58.525570Z",
     "shell.execute_reply": "2023-12-30T17:41:58.524361Z"
    },
    "papermill": {
     "duration": 0.029327,
     "end_time": "2023-12-30T17:41:58.528057",
     "exception": false,
     "start_time": "2023-12-30T17:41:58.498730",
     "status": "completed"
    },
    "tags": []
   },
   "outputs": [
    {
     "data": {
      "text/plain": [
       "(10127, 16)"
      ]
     },
     "execution_count": 6,
     "metadata": {},
     "output_type": "execute_result"
    }
   ],
   "source": [
    "df.shape"
   ]
  },
  {
   "cell_type": "code",
   "execution_count": 7,
   "id": "c6c79e5f",
   "metadata": {
    "execution": {
     "iopub.execute_input": "2023-12-30T17:41:58.633707Z",
     "iopub.status.busy": "2023-12-30T17:41:58.633276Z",
     "iopub.status.idle": "2023-12-30T17:41:58.644740Z",
     "shell.execute_reply": "2023-12-30T17:41:58.643506Z"
    },
    "papermill": {
     "duration": 0.034144,
     "end_time": "2023-12-30T17:41:58.647330",
     "exception": false,
     "start_time": "2023-12-30T17:41:58.613186",
     "status": "completed"
    },
    "tags": []
   },
   "outputs": [
    {
     "data": {
      "text/plain": [
       "(8500, 16)"
      ]
     },
     "execution_count": 7,
     "metadata": {},
     "output_type": "execute_result"
    }
   ],
   "source": [
    "df[df[\"default\"]==0].shape"
   ]
  },
  {
   "cell_type": "code",
   "execution_count": 8,
   "id": "0ffbf06b",
   "metadata": {
    "execution": {
     "iopub.execute_input": "2023-12-30T17:41:58.685867Z",
     "iopub.status.busy": "2023-12-30T17:41:58.685466Z",
     "iopub.status.idle": "2023-12-30T17:41:58.695391Z",
     "shell.execute_reply": "2023-12-30T17:41:58.694104Z"
    },
    "papermill": {
     "duration": 0.032377,
     "end_time": "2023-12-30T17:41:58.698092",
     "exception": false,
     "start_time": "2023-12-30T17:41:58.665715",
     "status": "completed"
    },
    "tags": []
   },
   "outputs": [
    {
     "data": {
      "text/plain": [
       "(1627, 16)"
      ]
     },
     "execution_count": 8,
     "metadata": {},
     "output_type": "execute_result"
    }
   ],
   "source": [
    "df[df[\"default\"]==1].shape"
   ]
  },
  {
   "cell_type": "code",
   "execution_count": 9,
   "id": "f2f1f915",
   "metadata": {
    "execution": {
     "iopub.execute_input": "2023-12-30T17:41:58.738254Z",
     "iopub.status.busy": "2023-12-30T17:41:58.737807Z",
     "iopub.status.idle": "2023-12-30T17:41:58.747403Z",
     "shell.execute_reply": "2023-12-30T17:41:58.746354Z"
    },
    "papermill": {
     "duration": 0.032855,
     "end_time": "2023-12-30T17:41:58.750153",
     "exception": false,
     "start_time": "2023-12-30T17:41:58.717298",
     "status": "completed"
    },
    "tags": []
   },
   "outputs": [],
   "source": [
    "total,_ = df.shape\n",
    "inadimplentes,_ = df[df[\"default\"]==1].shape\n",
    "adimplentes,_ = df[df[\"default\"]==0].shape"
   ]
  },
  {
   "cell_type": "code",
   "execution_count": 10,
   "id": "5b988ae7",
   "metadata": {
    "execution": {
     "iopub.execute_input": "2023-12-30T17:41:58.790313Z",
     "iopub.status.busy": "2023-12-30T17:41:58.789885Z",
     "iopub.status.idle": "2023-12-30T17:41:58.797027Z",
     "shell.execute_reply": "2023-12-30T17:41:58.795100Z"
    },
    "papermill": {
     "duration": 0.030007,
     "end_time": "2023-12-30T17:41:58.799858",
     "exception": false,
     "start_time": "2023-12-30T17:41:58.769851",
     "status": "completed"
    },
    "tags": []
   },
   "outputs": [
    {
     "name": "stdout",
     "output_type": "stream",
     "text": [
      "Temos um total de 83.93% dos nossos clientes como adimplentes\n",
      "Temos um total de 16.07% dos nossos clientes como inadimplentes\n"
     ]
    }
   ],
   "source": [
    "print(f\"Temos um total de {round(100 * adimplentes / total,2)}% dos nossos clientes como adimplentes\")\n",
    "print(f\"Temos um total de {round(100 * inadimplentes / total,2)}% dos nossos clientes como inadimplentes\")"
   ]
  },
  {
   "cell_type": "markdown",
   "id": "c1a25b88",
   "metadata": {
    "papermill": {
     "duration": 0.019537,
     "end_time": "2023-12-30T17:41:58.838516",
     "exception": false,
     "start_time": "2023-12-30T17:41:58.818979",
     "status": "completed"
    },
    "tags": []
   },
   "source": [
    "\n",
    "Dados faltantes\n"
   ]
  },
  {
   "cell_type": "code",
   "execution_count": 11,
   "id": "a1720117",
   "metadata": {
    "execution": {
     "iopub.execute_input": "2023-12-30T17:41:58.878856Z",
     "iopub.status.busy": "2023-12-30T17:41:58.878023Z",
     "iopub.status.idle": "2023-12-30T17:41:58.895574Z",
     "shell.execute_reply": "2023-12-30T17:41:58.894535Z"
    },
    "papermill": {
     "duration": 0.040543,
     "end_time": "2023-12-30T17:41:58.898225",
     "exception": false,
     "start_time": "2023-12-30T17:41:58.857682",
     "status": "completed"
    },
    "tags": []
   },
   "outputs": [
    {
     "data": {
      "text/plain": [
       "id                         False\n",
       "default                    False\n",
       "idade                      False\n",
       "sexo                       False\n",
       "dependentes                False\n",
       "escolaridade                True\n",
       "estado_civil                True\n",
       "salario_anual               True\n",
       "tipo_cartao                False\n",
       "meses_de_relacionamento    False\n",
       "qtd_produtos               False\n",
       "iteracoes_12m              False\n",
       "meses_inativo_12m          False\n",
       "limite_credito             False\n",
       "valor_transacoes_12m       False\n",
       "qtd_transacoes_12m         False\n",
       "dtype: bool"
      ]
     },
     "execution_count": 11,
     "metadata": {},
     "output_type": "execute_result"
    }
   ],
   "source": [
    "df.isna().any()"
   ]
  },
  {
   "cell_type": "markdown",
   "id": "6371cc8d",
   "metadata": {
    "papermill": {
     "duration": 0.020652,
     "end_time": "2023-12-30T17:41:58.938979",
     "exception": false,
     "start_time": "2023-12-30T17:41:58.918327",
     "status": "completed"
    },
    "tags": []
   },
   "source": [
    "como podemos ver os atributos com NaN sao escolaridade, estado civil e salario anual, vamos ver se eles podem ser descartados."
   ]
  },
  {
   "cell_type": "code",
   "execution_count": 12,
   "id": "46fb8397",
   "metadata": {
    "execution": {
     "iopub.execute_input": "2023-12-30T17:41:58.979398Z",
     "iopub.status.busy": "2023-12-30T17:41:58.978730Z",
     "iopub.status.idle": "2023-12-30T17:41:58.985777Z",
     "shell.execute_reply": "2023-12-30T17:41:58.984792Z"
    },
    "papermill": {
     "duration": 0.030493,
     "end_time": "2023-12-30T17:41:58.988517",
     "exception": false,
     "start_time": "2023-12-30T17:41:58.958024",
     "status": "completed"
    },
    "tags": []
   },
   "outputs": [],
   "source": [
    "def dados_faltantes(df:pd.DataFrame) -> None:\n",
    "    dados_faltantes=[]\n",
    "    for col in df.columns:\n",
    "        if df[col].isna().any():\n",
    "            qtd ,_ =df[df[col].isna()].shape\n",
    "            total ,_ = df.shape\n",
    "            dict_dados_faltantes ={col: {\"quantidade\":qtd, \"porcentagem\": round(100* qtd/total,2)}}\n",
    "            dados_faltantes.append(dict_dados_faltantes)\n",
    "    for stat in dados_faltantes:\n",
    "        print(stat)"
   ]
  },
  {
   "cell_type": "code",
   "execution_count": 13,
   "id": "13f69425",
   "metadata": {
    "execution": {
     "iopub.execute_input": "2023-12-30T17:41:59.028904Z",
     "iopub.status.busy": "2023-12-30T17:41:59.028457Z",
     "iopub.status.idle": "2023-12-30T17:41:59.142732Z",
     "shell.execute_reply": "2023-12-30T17:41:59.140565Z"
    },
    "papermill": {
     "duration": 0.138038,
     "end_time": "2023-12-30T17:41:59.145785",
     "exception": false,
     "start_time": "2023-12-30T17:41:59.007747",
     "status": "completed"
    },
    "tags": []
   },
   "outputs": [
    {
     "name": "stdout",
     "output_type": "stream",
     "text": [
      "{'escolaridade': {'quantidade': 1519, 'porcentagem': 15.0}}\n",
      "{'estado_civil': {'quantidade': 749, 'porcentagem': 7.4}}\n",
      "{'salario_anual': {'quantidade': 1112, 'porcentagem': 10.98}}\n"
     ]
    }
   ],
   "source": [
    "dados_faltantes(df=df)"
   ]
  },
  {
   "cell_type": "code",
   "execution_count": 14,
   "id": "fb53994e",
   "metadata": {
    "execution": {
     "iopub.execute_input": "2023-12-30T17:41:59.187003Z",
     "iopub.status.busy": "2023-12-30T17:41:59.186047Z",
     "iopub.status.idle": "2023-12-30T17:41:59.209935Z",
     "shell.execute_reply": "2023-12-30T17:41:59.208495Z"
    },
    "papermill": {
     "duration": 0.046871,
     "end_time": "2023-12-30T17:41:59.212451",
     "exception": false,
     "start_time": "2023-12-30T17:41:59.165580",
     "status": "completed"
    },
    "tags": []
   },
   "outputs": [
    {
     "name": "stdout",
     "output_type": "stream",
     "text": [
      "{'escolaridade': {'quantidade': 1263, 'porcentagem': 14.86}}\n",
      "{'estado_civil': {'quantidade': 620, 'porcentagem': 7.29}}\n",
      "{'salario_anual': {'quantidade': 925, 'porcentagem': 10.88}}\n"
     ]
    }
   ],
   "source": [
    "dados_faltantes(df=df[df[\"default\"] == 0])"
   ]
  },
  {
   "cell_type": "code",
   "execution_count": 15,
   "id": "833aad4e",
   "metadata": {
    "execution": {
     "iopub.execute_input": "2023-12-30T17:41:59.253682Z",
     "iopub.status.busy": "2023-12-30T17:41:59.252881Z",
     "iopub.status.idle": "2023-12-30T17:41:59.267249Z",
     "shell.execute_reply": "2023-12-30T17:41:59.266272Z"
    },
    "papermill": {
     "duration": 0.038565,
     "end_time": "2023-12-30T17:41:59.269899",
     "exception": false,
     "start_time": "2023-12-30T17:41:59.231334",
     "status": "completed"
    },
    "tags": []
   },
   "outputs": [
    {
     "name": "stdout",
     "output_type": "stream",
     "text": [
      "{'escolaridade': {'quantidade': 256, 'porcentagem': 15.73}}\n",
      "{'estado_civil': {'quantidade': 129, 'porcentagem': 7.93}}\n",
      "{'salario_anual': {'quantidade': 187, 'porcentagem': 11.49}}\n"
     ]
    }
   ],
   "source": [
    "dados_faltantes(df=df[df[\"default\"] == 1])"
   ]
  },
  {
   "cell_type": "markdown",
   "id": "46c1899f",
   "metadata": {
    "papermill": {
     "duration": 0.019356,
     "end_time": "2023-12-30T17:41:59.308350",
     "exception": false,
     "start_time": "2023-12-30T17:41:59.288994",
     "status": "completed"
    },
    "tags": []
   },
   "source": [
    "Como a porcentagem de dados faltando para os clientes adimplentes e inadimplentes é muito próxima, podemos eliminá-los da tabela, pois a diferença gerada por isso será igual para os dois."
   ]
  },
  {
   "cell_type": "markdown",
   "id": "4ca4376d",
   "metadata": {
    "papermill": {
     "duration": 0.019696,
     "end_time": "2023-12-30T17:41:59.349435",
     "exception": false,
     "start_time": "2023-12-30T17:41:59.329739",
     "status": "completed"
    },
    "tags": []
   },
   "source": [
    "# Transformando e limpando os dados"
   ]
  },
  {
   "cell_type": "markdown",
   "id": "3ed4c374",
   "metadata": {
    "papermill": {
     "duration": 0.019743,
     "end_time": "2023-12-30T17:41:59.389406",
     "exception": false,
     "start_time": "2023-12-30T17:41:59.369663",
     "status": "completed"
    },
    "tags": []
   },
   "source": [
    "transformando strings em numeros"
   ]
  },
  {
   "cell_type": "code",
   "execution_count": 16,
   "id": "85036807",
   "metadata": {
    "execution": {
     "iopub.execute_input": "2023-12-30T17:41:59.431412Z",
     "iopub.status.busy": "2023-12-30T17:41:59.430663Z",
     "iopub.status.idle": "2023-12-30T17:41:59.441058Z",
     "shell.execute_reply": "2023-12-30T17:41:59.439370Z"
    },
    "papermill": {
     "duration": 0.035459,
     "end_time": "2023-12-30T17:41:59.445201",
     "exception": false,
     "start_time": "2023-12-30T17:41:59.409742",
     "status": "completed"
    },
    "tags": []
   },
   "outputs": [
    {
     "data": {
      "text/plain": [
       "limite_credito          object\n",
       "valor_transacoes_12m    object\n",
       "dtype: object"
      ]
     },
     "execution_count": 16,
     "metadata": {},
     "output_type": "execute_result"
    }
   ],
   "source": [
    "df[[\"limite_credito\",\"valor_transacoes_12m\"]].dtypes"
   ]
  },
  {
   "cell_type": "code",
   "execution_count": 17,
   "id": "11ad4af3",
   "metadata": {
    "execution": {
     "iopub.execute_input": "2023-12-30T17:41:59.486674Z",
     "iopub.status.busy": "2023-12-30T17:41:59.486253Z",
     "iopub.status.idle": "2023-12-30T17:41:59.499608Z",
     "shell.execute_reply": "2023-12-30T17:41:59.498325Z"
    },
    "papermill": {
     "duration": 0.037641,
     "end_time": "2023-12-30T17:41:59.502461",
     "exception": false,
     "start_time": "2023-12-30T17:41:59.464820",
     "status": "completed"
    },
    "tags": []
   },
   "outputs": [
    {
     "data": {
      "text/html": [
       "<div>\n",
       "<style scoped>\n",
       "    .dataframe tbody tr th:only-of-type {\n",
       "        vertical-align: middle;\n",
       "    }\n",
       "\n",
       "    .dataframe tbody tr th {\n",
       "        vertical-align: top;\n",
       "    }\n",
       "\n",
       "    .dataframe thead th {\n",
       "        text-align: right;\n",
       "    }\n",
       "</style>\n",
       "<table border=\"1\" class=\"dataframe\">\n",
       "  <thead>\n",
       "    <tr style=\"text-align: right;\">\n",
       "      <th></th>\n",
       "      <th>limite_credito</th>\n",
       "      <th>valor_transacoes_12m</th>\n",
       "    </tr>\n",
       "  </thead>\n",
       "  <tbody>\n",
       "    <tr>\n",
       "      <th>0</th>\n",
       "      <td>12.691,51</td>\n",
       "      <td>1.144,90</td>\n",
       "    </tr>\n",
       "    <tr>\n",
       "      <th>1</th>\n",
       "      <td>8.256,96</td>\n",
       "      <td>1.291,45</td>\n",
       "    </tr>\n",
       "    <tr>\n",
       "      <th>2</th>\n",
       "      <td>3.418,56</td>\n",
       "      <td>1.887,72</td>\n",
       "    </tr>\n",
       "    <tr>\n",
       "      <th>3</th>\n",
       "      <td>3.313,03</td>\n",
       "      <td>1.171,56</td>\n",
       "    </tr>\n",
       "    <tr>\n",
       "      <th>4</th>\n",
       "      <td>4.716,22</td>\n",
       "      <td>816,08</td>\n",
       "    </tr>\n",
       "  </tbody>\n",
       "</table>\n",
       "</div>"
      ],
      "text/plain": [
       "  limite_credito valor_transacoes_12m\n",
       "0      12.691,51             1.144,90\n",
       "1       8.256,96             1.291,45\n",
       "2       3.418,56             1.887,72\n",
       "3       3.313,03             1.171,56\n",
       "4       4.716,22               816,08"
      ]
     },
     "execution_count": 17,
     "metadata": {},
     "output_type": "execute_result"
    }
   ],
   "source": [
    "df[[\"limite_credito\",\"valor_transacoes_12m\"]].head(n=5)"
   ]
  },
  {
   "cell_type": "code",
   "execution_count": 18,
   "id": "668e1e36",
   "metadata": {
    "execution": {
     "iopub.execute_input": "2023-12-30T17:41:59.544390Z",
     "iopub.status.busy": "2023-12-30T17:41:59.543726Z",
     "iopub.status.idle": "2023-12-30T17:41:59.549218Z",
     "shell.execute_reply": "2023-12-30T17:41:59.548287Z"
    },
    "papermill": {
     "duration": 0.029349,
     "end_time": "2023-12-30T17:41:59.551626",
     "exception": false,
     "start_time": "2023-12-30T17:41:59.522277",
     "status": "completed"
    },
    "tags": []
   },
   "outputs": [],
   "source": [
    "fn = lambda valor: float(valor.replace(\".\", \"\").replace(\",\", \".\"))"
   ]
  },
  {
   "cell_type": "code",
   "execution_count": 19,
   "id": "9fee0a9b",
   "metadata": {
    "execution": {
     "iopub.execute_input": "2023-12-30T17:41:59.593862Z",
     "iopub.status.busy": "2023-12-30T17:41:59.592754Z",
     "iopub.status.idle": "2023-12-30T17:41:59.619303Z",
     "shell.execute_reply": "2023-12-30T17:41:59.617916Z"
    },
    "papermill": {
     "duration": 0.050475,
     "end_time": "2023-12-30T17:41:59.622322",
     "exception": false,
     "start_time": "2023-12-30T17:41:59.571847",
     "status": "completed"
    },
    "tags": []
   },
   "outputs": [],
   "source": [
    "df['valor_transacoes_12m'] = df['valor_transacoes_12m'].apply(fn)\n",
    "df['limite_credito'] = df['limite_credito'].apply(fn)"
   ]
  },
  {
   "cell_type": "code",
   "execution_count": 20,
   "id": "a4fc952e",
   "metadata": {
    "execution": {
     "iopub.execute_input": "2023-12-30T17:41:59.664092Z",
     "iopub.status.busy": "2023-12-30T17:41:59.663701Z",
     "iopub.status.idle": "2023-12-30T17:41:59.673981Z",
     "shell.execute_reply": "2023-12-30T17:41:59.672657Z"
    },
    "papermill": {
     "duration": 0.035095,
     "end_time": "2023-12-30T17:41:59.676921",
     "exception": false,
     "start_time": "2023-12-30T17:41:59.641826",
     "status": "completed"
    },
    "tags": []
   },
   "outputs": [
    {
     "data": {
      "text/plain": [
       "limite_credito          float64\n",
       "valor_transacoes_12m    float64\n",
       "dtype: object"
      ]
     },
     "execution_count": 20,
     "metadata": {},
     "output_type": "execute_result"
    }
   ],
   "source": [
    "df[[\"limite_credito\",\"valor_transacoes_12m\"]].dtypes"
   ]
  },
  {
   "cell_type": "code",
   "execution_count": 21,
   "id": "3f6eb1f0",
   "metadata": {
    "execution": {
     "iopub.execute_input": "2023-12-30T17:41:59.718545Z",
     "iopub.status.busy": "2023-12-30T17:41:59.718170Z",
     "iopub.status.idle": "2023-12-30T17:41:59.772518Z",
     "shell.execute_reply": "2023-12-30T17:41:59.771518Z"
    },
    "papermill": {
     "duration": 0.078628,
     "end_time": "2023-12-30T17:41:59.775374",
     "exception": false,
     "start_time": "2023-12-30T17:41:59.696746",
     "status": "completed"
    },
    "tags": []
   },
   "outputs": [
    {
     "data": {
      "text/html": [
       "<div>\n",
       "<style scoped>\n",
       "    .dataframe tbody tr th:only-of-type {\n",
       "        vertical-align: middle;\n",
       "    }\n",
       "\n",
       "    .dataframe tbody tr th {\n",
       "        vertical-align: top;\n",
       "    }\n",
       "\n",
       "    .dataframe thead th {\n",
       "        text-align: right;\n",
       "    }\n",
       "</style>\n",
       "<table border=\"1\" class=\"dataframe\">\n",
       "  <thead>\n",
       "    <tr style=\"text-align: right;\">\n",
       "      <th></th>\n",
       "      <th>count</th>\n",
       "      <th>mean</th>\n",
       "      <th>std</th>\n",
       "      <th>min</th>\n",
       "      <th>25%</th>\n",
       "      <th>50%</th>\n",
       "      <th>75%</th>\n",
       "      <th>max</th>\n",
       "    </tr>\n",
       "  </thead>\n",
       "  <tbody>\n",
       "    <tr>\n",
       "      <th>default</th>\n",
       "      <td>10127.0</td>\n",
       "      <td>0.160660</td>\n",
       "      <td>0.367235</td>\n",
       "      <td>0.00</td>\n",
       "      <td>0.000</td>\n",
       "      <td>0.00</td>\n",
       "      <td>0.000</td>\n",
       "      <td>1.00</td>\n",
       "    </tr>\n",
       "    <tr>\n",
       "      <th>idade</th>\n",
       "      <td>10127.0</td>\n",
       "      <td>46.325960</td>\n",
       "      <td>8.016814</td>\n",
       "      <td>26.00</td>\n",
       "      <td>41.000</td>\n",
       "      <td>46.00</td>\n",
       "      <td>52.000</td>\n",
       "      <td>73.00</td>\n",
       "    </tr>\n",
       "    <tr>\n",
       "      <th>dependentes</th>\n",
       "      <td>10127.0</td>\n",
       "      <td>2.346203</td>\n",
       "      <td>1.298908</td>\n",
       "      <td>0.00</td>\n",
       "      <td>1.000</td>\n",
       "      <td>2.00</td>\n",
       "      <td>3.000</td>\n",
       "      <td>5.00</td>\n",
       "    </tr>\n",
       "    <tr>\n",
       "      <th>meses_de_relacionamento</th>\n",
       "      <td>10127.0</td>\n",
       "      <td>35.928409</td>\n",
       "      <td>7.986416</td>\n",
       "      <td>13.00</td>\n",
       "      <td>31.000</td>\n",
       "      <td>36.00</td>\n",
       "      <td>40.000</td>\n",
       "      <td>56.00</td>\n",
       "    </tr>\n",
       "    <tr>\n",
       "      <th>qtd_produtos</th>\n",
       "      <td>10127.0</td>\n",
       "      <td>3.812580</td>\n",
       "      <td>1.554408</td>\n",
       "      <td>1.00</td>\n",
       "      <td>3.000</td>\n",
       "      <td>4.00</td>\n",
       "      <td>5.000</td>\n",
       "      <td>6.00</td>\n",
       "    </tr>\n",
       "    <tr>\n",
       "      <th>iteracoes_12m</th>\n",
       "      <td>10127.0</td>\n",
       "      <td>2.455317</td>\n",
       "      <td>1.106225</td>\n",
       "      <td>0.00</td>\n",
       "      <td>2.000</td>\n",
       "      <td>2.00</td>\n",
       "      <td>3.000</td>\n",
       "      <td>6.00</td>\n",
       "    </tr>\n",
       "    <tr>\n",
       "      <th>meses_inativo_12m</th>\n",
       "      <td>10127.0</td>\n",
       "      <td>2.341167</td>\n",
       "      <td>1.010622</td>\n",
       "      <td>0.00</td>\n",
       "      <td>2.000</td>\n",
       "      <td>2.00</td>\n",
       "      <td>3.000</td>\n",
       "      <td>6.00</td>\n",
       "    </tr>\n",
       "    <tr>\n",
       "      <th>limite_credito</th>\n",
       "      <td>10127.0</td>\n",
       "      <td>8632.440165</td>\n",
       "      <td>9088.788041</td>\n",
       "      <td>1438.00</td>\n",
       "      <td>2555.355</td>\n",
       "      <td>4549.42</td>\n",
       "      <td>11068.175</td>\n",
       "      <td>34516.99</td>\n",
       "    </tr>\n",
       "    <tr>\n",
       "      <th>valor_transacoes_12m</th>\n",
       "      <td>10127.0</td>\n",
       "      <td>4404.583047</td>\n",
       "      <td>3397.128078</td>\n",
       "      <td>510.16</td>\n",
       "      <td>2155.825</td>\n",
       "      <td>3899.59</td>\n",
       "      <td>4741.310</td>\n",
       "      <td>18484.93</td>\n",
       "    </tr>\n",
       "    <tr>\n",
       "      <th>qtd_transacoes_12m</th>\n",
       "      <td>10127.0</td>\n",
       "      <td>64.858695</td>\n",
       "      <td>23.472570</td>\n",
       "      <td>10.00</td>\n",
       "      <td>45.000</td>\n",
       "      <td>67.00</td>\n",
       "      <td>81.000</td>\n",
       "      <td>139.00</td>\n",
       "    </tr>\n",
       "  </tbody>\n",
       "</table>\n",
       "</div>"
      ],
      "text/plain": [
       "                           count         mean          std      min       25%  \\\n",
       "default                  10127.0     0.160660     0.367235     0.00     0.000   \n",
       "idade                    10127.0    46.325960     8.016814    26.00    41.000   \n",
       "dependentes              10127.0     2.346203     1.298908     0.00     1.000   \n",
       "meses_de_relacionamento  10127.0    35.928409     7.986416    13.00    31.000   \n",
       "qtd_produtos             10127.0     3.812580     1.554408     1.00     3.000   \n",
       "iteracoes_12m            10127.0     2.455317     1.106225     0.00     2.000   \n",
       "meses_inativo_12m        10127.0     2.341167     1.010622     0.00     2.000   \n",
       "limite_credito           10127.0  8632.440165  9088.788041  1438.00  2555.355   \n",
       "valor_transacoes_12m     10127.0  4404.583047  3397.128078   510.16  2155.825   \n",
       "qtd_transacoes_12m       10127.0    64.858695    23.472570    10.00    45.000   \n",
       "\n",
       "                             50%        75%       max  \n",
       "default                     0.00      0.000      1.00  \n",
       "idade                      46.00     52.000     73.00  \n",
       "dependentes                 2.00      3.000      5.00  \n",
       "meses_de_relacionamento    36.00     40.000     56.00  \n",
       "qtd_produtos                4.00      5.000      6.00  \n",
       "iteracoes_12m               2.00      3.000      6.00  \n",
       "meses_inativo_12m           2.00      3.000      6.00  \n",
       "limite_credito           4549.42  11068.175  34516.99  \n",
       "valor_transacoes_12m     3899.59   4741.310  18484.93  \n",
       "qtd_transacoes_12m         67.00     81.000    139.00  "
      ]
     },
     "execution_count": 21,
     "metadata": {},
     "output_type": "execute_result"
    }
   ],
   "source": [
    "df.drop('id', axis=1).select_dtypes('number').describe().transpose()\n"
   ]
  },
  {
   "cell_type": "markdown",
   "id": "1f97e5bc",
   "metadata": {
    "papermill": {
     "duration": 0.020918,
     "end_time": "2023-12-30T17:41:59.816352",
     "exception": false,
     "start_time": "2023-12-30T17:41:59.795434",
     "status": "completed"
    },
    "tags": []
   },
   "source": [
    "eliminando dados em branco"
   ]
  },
  {
   "cell_type": "markdown",
   "id": "9ea3c173",
   "metadata": {
    "papermill": {
     "duration": 0.021402,
     "end_time": "2023-12-30T17:41:59.859006",
     "exception": false,
     "start_time": "2023-12-30T17:41:59.837604",
     "status": "completed"
    },
    "tags": []
   },
   "source": [
    "como os dados em falta foram definidos anteriormente, podem ser removidos agora com facilidade"
   ]
  },
  {
   "cell_type": "code",
   "execution_count": 22,
   "id": "779f91ca",
   "metadata": {
    "execution": {
     "iopub.execute_input": "2023-12-30T17:41:59.902171Z",
     "iopub.status.busy": "2023-12-30T17:41:59.901717Z",
     "iopub.status.idle": "2023-12-30T17:41:59.915061Z",
     "shell.execute_reply": "2023-12-30T17:41:59.913830Z"
    },
    "papermill": {
     "duration": 0.038326,
     "end_time": "2023-12-30T17:41:59.917792",
     "exception": false,
     "start_time": "2023-12-30T17:41:59.879466",
     "status": "completed"
    },
    "tags": []
   },
   "outputs": [],
   "source": [
    "df.dropna(inplace=True)"
   ]
  },
  {
   "cell_type": "markdown",
   "id": "8a8d0adf",
   "metadata": {
    "papermill": {
     "duration": 0.019574,
     "end_time": "2023-12-30T17:41:59.958073",
     "exception": false,
     "start_time": "2023-12-30T17:41:59.938499",
     "status": "completed"
    },
    "tags": []
   },
   "source": [
    "E para que possamos ver a diferença, a seguir vamos fazer a seguinte comparação."
   ]
  },
  {
   "cell_type": "code",
   "execution_count": 23,
   "id": "54ddeda1",
   "metadata": {
    "execution": {
     "iopub.execute_input": "2023-12-30T17:42:00.000356Z",
     "iopub.status.busy": "2023-12-30T17:41:59.999427Z",
     "iopub.status.idle": "2023-12-30T17:42:00.006158Z",
     "shell.execute_reply": "2023-12-30T17:42:00.005068Z"
    },
    "papermill": {
     "duration": 0.030592,
     "end_time": "2023-12-30T17:42:00.008751",
     "exception": false,
     "start_time": "2023-12-30T17:41:59.978159",
     "status": "completed"
    },
    "tags": []
   },
   "outputs": [
    {
     "data": {
      "text/plain": [
       "(7081, 16)"
      ]
     },
     "execution_count": 23,
     "metadata": {},
     "output_type": "execute_result"
    }
   ],
   "source": [
    "df.shape"
   ]
  },
  {
   "cell_type": "code",
   "execution_count": 24,
   "id": "2b37019c",
   "metadata": {
    "execution": {
     "iopub.execute_input": "2023-12-30T17:42:00.052963Z",
     "iopub.status.busy": "2023-12-30T17:42:00.052218Z",
     "iopub.status.idle": "2023-12-30T17:42:00.062445Z",
     "shell.execute_reply": "2023-12-30T17:42:00.061224Z"
    },
    "papermill": {
     "duration": 0.034992,
     "end_time": "2023-12-30T17:42:00.065117",
     "exception": false,
     "start_time": "2023-12-30T17:42:00.030125",
     "status": "completed"
    },
    "tags": []
   },
   "outputs": [
    {
     "data": {
      "text/plain": [
       "(5968, 16)"
      ]
     },
     "execution_count": 24,
     "metadata": {},
     "output_type": "execute_result"
    }
   ],
   "source": [
    "df[df['default'] == 0].shape"
   ]
  },
  {
   "cell_type": "code",
   "execution_count": 25,
   "id": "28441dac",
   "metadata": {
    "execution": {
     "iopub.execute_input": "2023-12-30T17:42:00.110032Z",
     "iopub.status.busy": "2023-12-30T17:42:00.109107Z",
     "iopub.status.idle": "2023-12-30T17:42:00.119581Z",
     "shell.execute_reply": "2023-12-30T17:42:00.118247Z"
    },
    "papermill": {
     "duration": 0.036917,
     "end_time": "2023-12-30T17:42:00.122284",
     "exception": false,
     "start_time": "2023-12-30T17:42:00.085367",
     "status": "completed"
    },
    "tags": []
   },
   "outputs": [
    {
     "data": {
      "text/plain": [
       "(1113, 16)"
      ]
     },
     "execution_count": 25,
     "metadata": {},
     "output_type": "execute_result"
    }
   ],
   "source": [
    "df[df['default'] == 1].shape"
   ]
  },
  {
   "cell_type": "code",
   "execution_count": 26,
   "id": "7c2a961a",
   "metadata": {
    "execution": {
     "iopub.execute_input": "2023-12-30T17:42:00.166295Z",
     "iopub.status.busy": "2023-12-30T17:42:00.165444Z",
     "iopub.status.idle": "2023-12-30T17:42:00.174880Z",
     "shell.execute_reply": "2023-12-30T17:42:00.173488Z"
    },
    "papermill": {
     "duration": 0.035138,
     "end_time": "2023-12-30T17:42:00.177780",
     "exception": false,
     "start_time": "2023-12-30T17:42:00.142642",
     "status": "completed"
    },
    "tags": []
   },
   "outputs": [],
   "source": [
    "total_novo, _ = df.shape\n",
    "adimplentes_novo, _ = df[df['default'] == 0].shape\n",
    "inadimplentes_novo, _ = df[df['default'] == 1].shape"
   ]
  },
  {
   "cell_type": "code",
   "execution_count": 27,
   "id": "dbc82373",
   "metadata": {
    "execution": {
     "iopub.execute_input": "2023-12-30T17:42:00.221465Z",
     "iopub.status.busy": "2023-12-30T17:42:00.220628Z",
     "iopub.status.idle": "2023-12-30T17:42:00.228512Z",
     "shell.execute_reply": "2023-12-30T17:42:00.227018Z"
    },
    "papermill": {
     "duration": 0.0332,
     "end_time": "2023-12-30T17:42:00.231589",
     "exception": false,
     "start_time": "2023-12-30T17:42:00.198389",
     "status": "completed"
    },
    "tags": []
   },
   "outputs": [
    {
     "name": "stdout",
     "output_type": "stream",
     "text": [
      "A proporcão adimplentes ativos é de 83.93%\n",
      "A nova proporcão de clientes adimplentes é de 84.28%\n",
      "\n",
      "A proporcão clientes inadimplentes é de 16.07%\n",
      "A nova proporcão de clientes inadimplentes é de 15.72%\n"
     ]
    }
   ],
   "source": [
    "print(f\"A proporcão adimplentes ativos é de {round(100 * adimplentes / total,2)}%\")\n",
    "print(f\"A nova proporcão de clientes adimplentes é de {round(100 * adimplentes_novo / total_novo,2)}%\")\n",
    "print(\"\")\n",
    "print(f\"A proporcão clientes inadimplentes é de {round(100 * inadimplentes / total,2)}%\")\n",
    "print(f\"A nova proporcão de clientes inadimplentes é de {round(100 * inadimplentes_novo / total_novo,2)}%\")"
   ]
  },
  {
   "cell_type": "markdown",
   "id": "a04e3e97",
   "metadata": {
    "papermill": {
     "duration": 0.021008,
     "end_time": "2023-12-30T17:42:00.273333",
     "exception": false,
     "start_time": "2023-12-30T17:42:00.252325",
     "status": "completed"
    },
    "tags": []
   },
   "source": [
    "# Visualização "
   ]
  },
  {
   "cell_type": "markdown",
   "id": "9321f600",
   "metadata": {
    "papermill": {
     "duration": 0.021037,
     "end_time": "2023-12-30T17:42:00.314740",
     "exception": false,
     "start_time": "2023-12-30T17:42:00.293703",
     "status": "completed"
    },
    "tags": []
   },
   "source": [
    "Nessa seção, veremos a relação entre a inadimplência e adimplencia dos clientes e seus atributos."
   ]
  },
  {
   "cell_type": "code",
   "execution_count": 28,
   "id": "f801332d",
   "metadata": {
    "execution": {
     "iopub.execute_input": "2023-12-30T17:42:00.358507Z",
     "iopub.status.busy": "2023-12-30T17:42:00.358059Z",
     "iopub.status.idle": "2023-12-30T17:42:00.366914Z",
     "shell.execute_reply": "2023-12-30T17:42:00.365625Z"
    },
    "papermill": {
     "duration": 0.034391,
     "end_time": "2023-12-30T17:42:00.369900",
     "exception": false,
     "start_time": "2023-12-30T17:42:00.335509",
     "status": "completed"
    },
    "tags": []
   },
   "outputs": [],
   "source": [
    "df_adimplente = df[df['default'] == 0]\n",
    "df_inadimplente = df[df['default'] == 1]"
   ]
  },
  {
   "cell_type": "code",
   "execution_count": 29,
   "id": "26df87a5",
   "metadata": {
    "execution": {
     "iopub.execute_input": "2023-12-30T17:42:00.415752Z",
     "iopub.status.busy": "2023-12-30T17:42:00.414540Z",
     "iopub.status.idle": "2023-12-30T17:42:00.436280Z",
     "shell.execute_reply": "2023-12-30T17:42:00.434368Z"
    },
    "papermill": {
     "duration": 0.048487,
     "end_time": "2023-12-30T17:42:00.439374",
     "exception": false,
     "start_time": "2023-12-30T17:42:00.390887",
     "status": "completed"
    },
    "tags": []
   },
   "outputs": [
    {
     "data": {
      "text/html": [
       "<div>\n",
       "<style scoped>\n",
       "    .dataframe tbody tr th:only-of-type {\n",
       "        vertical-align: middle;\n",
       "    }\n",
       "\n",
       "    .dataframe tbody tr th {\n",
       "        vertical-align: top;\n",
       "    }\n",
       "\n",
       "    .dataframe thead th {\n",
       "        text-align: right;\n",
       "    }\n",
       "</style>\n",
       "<table border=\"1\" class=\"dataframe\">\n",
       "  <thead>\n",
       "    <tr style=\"text-align: right;\">\n",
       "      <th></th>\n",
       "      <th>sexo</th>\n",
       "      <th>escolaridade</th>\n",
       "      <th>estado_civil</th>\n",
       "      <th>salario_anual</th>\n",
       "      <th>tipo_cartao</th>\n",
       "    </tr>\n",
       "  </thead>\n",
       "  <tbody>\n",
       "    <tr>\n",
       "      <th>0</th>\n",
       "      <td>M</td>\n",
       "      <td>ensino medio</td>\n",
       "      <td>casado</td>\n",
       "      <td>$60K - $80K</td>\n",
       "      <td>blue</td>\n",
       "    </tr>\n",
       "    <tr>\n",
       "      <th>1</th>\n",
       "      <td>F</td>\n",
       "      <td>mestrado</td>\n",
       "      <td>solteiro</td>\n",
       "      <td>menos que $40K</td>\n",
       "      <td>blue</td>\n",
       "    </tr>\n",
       "    <tr>\n",
       "      <th>2</th>\n",
       "      <td>M</td>\n",
       "      <td>mestrado</td>\n",
       "      <td>casado</td>\n",
       "      <td>$80K - $120K</td>\n",
       "      <td>blue</td>\n",
       "    </tr>\n",
       "    <tr>\n",
       "      <th>4</th>\n",
       "      <td>M</td>\n",
       "      <td>sem educacao formal</td>\n",
       "      <td>casado</td>\n",
       "      <td>$60K - $80K</td>\n",
       "      <td>blue</td>\n",
       "    </tr>\n",
       "    <tr>\n",
       "      <th>5</th>\n",
       "      <td>M</td>\n",
       "      <td>mestrado</td>\n",
       "      <td>casado</td>\n",
       "      <td>$40K - $60K</td>\n",
       "      <td>blue</td>\n",
       "    </tr>\n",
       "  </tbody>\n",
       "</table>\n",
       "</div>"
      ],
      "text/plain": [
       "  sexo         escolaridade estado_civil   salario_anual tipo_cartao\n",
       "0    M         ensino medio       casado     $60K - $80K        blue\n",
       "1    F             mestrado     solteiro  menos que $40K        blue\n",
       "2    M             mestrado       casado    $80K - $120K        blue\n",
       "4    M  sem educacao formal       casado     $60K - $80K        blue\n",
       "5    M             mestrado       casado     $40K - $60K        blue"
      ]
     },
     "execution_count": 29,
     "metadata": {},
     "output_type": "execute_result"
    }
   ],
   "source": [
    "df.select_dtypes('object').head(n=5)"
   ]
  },
  {
   "cell_type": "code",
   "execution_count": 30,
   "id": "0798e328",
   "metadata": {
    "execution": {
     "iopub.execute_input": "2023-12-30T17:42:00.490885Z",
     "iopub.status.busy": "2023-12-30T17:42:00.489492Z",
     "iopub.status.idle": "2023-12-30T17:42:01.550540Z",
     "shell.execute_reply": "2023-12-30T17:42:01.548575Z"
    },
    "papermill": {
     "duration": 1.089805,
     "end_time": "2023-12-30T17:42:01.553996",
     "exception": false,
     "start_time": "2023-12-30T17:42:00.464191",
     "status": "completed"
    },
    "tags": []
   },
   "outputs": [
    {
     "data": {
      "image/png": "[encoded data removed]",
      "text/plain": [
       "<Figure size 2000x500 with 3 Axes>"
      ]
     },
     "metadata": {},
     "output_type": "display_data"
    }
   ],
   "source": [
    "coluna = 'escolaridade'\n",
    "titulos = ['Escolaridade dos Clientes', 'Escolaridade dos Clientes Adimplentes', 'Escolaridade dos Clientes Inadimplentes']\n",
    "figura, eixos = plt.subplots(1, 3, figsize=(20, 5), sharex=True)\n",
    "max_y = 0\n",
    "\n",
    "for eixo, dataframe in enumerate([df, df_adimplente, df_inadimplente]):\n",
    "  df_to_plot = dataframe[coluna].value_counts().reset_index()\n",
    "  df_to_plot.columns = [coluna, 'frequencia_absoluta']\n",
    "  df_to_plot.sort_values(by=[coluna], inplace=True)\n",
    "\n",
    "  f = sns.barplot(data=df_to_plot, x=coluna, y='frequencia_absoluta', ax=eixos[eixo])\n",
    "  f.set(title=titulos[eixo], xlabel=coluna.capitalize(), ylabel='Frequência Absoluta')\n",
    "  f.set_xticklabels(labels=f.get_xticklabels(), rotation=90)\n",
    "\n",
    "  _, max_y_f = f.get_ylim()\n",
    "  max_y = max_y_f if max_y_f > max_y else max_y\n",
    "\n",
    "for eixo in eixos:\n",
    "  eixo.set(ylim=(0, max_y))\n",
    "\n",
    "plt.show()"
   ]
  },
  {
   "cell_type": "markdown",
   "id": "5d589df2",
   "metadata": {
    "papermill": {
     "duration": 0.022019,
     "end_time": "2023-12-30T17:42:01.597731",
     "exception": false,
     "start_time": "2023-12-30T17:42:01.575712",
     "status": "completed"
    },
    "tags": []
   },
   "source": [
    "Apesar da pequena diferença entre os níveis de escolaridade, o gráfico mostra que os clientes que estão cursando mestrado são mais propensos à inadimplência."
   ]
  },
  {
   "cell_type": "code",
   "execution_count": 31,
   "id": "ed0c6f2e",
   "metadata": {
    "execution": {
     "iopub.execute_input": "2023-12-30T17:42:01.643945Z",
     "iopub.status.busy": "2023-12-30T17:42:01.642877Z",
     "iopub.status.idle": "2023-12-30T17:42:02.485310Z",
     "shell.execute_reply": "2023-12-30T17:42:02.483867Z"
    },
    "papermill": {
     "duration": 0.86858,
     "end_time": "2023-12-30T17:42:02.488153",
     "exception": false,
     "start_time": "2023-12-30T17:42:01.619573",
     "status": "completed"
    },
    "tags": []
   },
   "outputs": [
    {
     "data": {
      "image/png": "[encoded data removed]",
      "text/plain": [
       "<Figure size 2000x500 with 3 Axes>"
      ]
     },
     "metadata": {},
     "output_type": "display_data"
    }
   ],
   "source": [
    "coluna = 'estado_civil'\n",
    "titulos = ['Estado Civil dos Clientes', 'Estado Civil dos Clientes Adimplentes', 'Estado Civil dos Clientes Inadimplentes']\n",
    "\n",
    "figura, eixos = plt.subplots(1, 3, figsize=(20, 5), sharex=True)\n",
    "max_y = 0\n",
    "\n",
    "for eixo, dataframe in enumerate([df, df_adimplente, df_inadimplente]):\n",
    "  df_to_plot = dataframe[coluna].value_counts().reset_index()\n",
    "  df_to_plot.columns = [coluna, 'frequencia_absoluta']\n",
    "  df_to_plot.sort_values(by=[coluna], inplace=True)\n",
    "\n",
    "  f = sns.barplot(data=df_to_plot, x=coluna, y='frequencia_absoluta', ax=eixos[eixo])\n",
    "  f.set(title=titulos[eixo], xlabel=coluna.capitalize(), ylabel='Frequência Absoluta')\n",
    "  f.set_xticklabels(labels=f.get_xticklabels(), rotation=90)\n",
    "\n",
    "  _, max_y_f = f.get_ylim()\n",
    "  max_y = max_y_f if max_y_f > max_y else max_y\n",
    "\n",
    "for eixo in eixos:\n",
    "  eixo.set(ylim=(0, max_y))\n",
    "\n",
    "plt.show()"
   ]
  },
  {
   "cell_type": "markdown",
   "id": "a651facf",
   "metadata": {
    "papermill": {
     "duration": 0.026717,
     "end_time": "2023-12-30T17:42:02.538577",
     "exception": false,
     "start_time": "2023-12-30T17:42:02.511860",
     "status": "completed"
    },
    "tags": []
   },
   "source": [
    "No gráfico acima, mostrando o estado civil dos clientes, podemos ver que os casados e solteiros são responsáveis por mais de 80% dos inadimplentes."
   ]
  },
  {
   "cell_type": "code",
   "execution_count": 32,
   "id": "4424d9cb",
   "metadata": {
    "execution": {
     "iopub.execute_input": "2023-12-30T17:42:02.589970Z",
     "iopub.status.busy": "2023-12-30T17:42:02.589511Z",
     "iopub.status.idle": "2023-12-30T17:42:03.623495Z",
     "shell.execute_reply": "2023-12-30T17:42:03.622222Z"
    },
    "papermill": {
     "duration": 1.063589,
     "end_time": "2023-12-30T17:42:03.626484",
     "exception": false,
     "start_time": "2023-12-30T17:42:02.562895",
     "status": "completed"
    },
    "tags": []
   },
   "outputs": [
    {
     "data": {
      "image/png": "[encoded data removed]",
      "text/plain": [
       "<Figure size 2000x500 with 3 Axes>"
      ]
     },
     "metadata": {},
     "output_type": "display_data"
    }
   ],
   "source": [
    "coluna = 'salario_anual'\n",
    "titulos = ['Salário Anual dos Clientes', 'Salário Anual dos Clientes Adimplentes', 'Salário Anual dos Clientes Inadimplentes']\n",
    "figura, eixos = plt.subplots(1, 3, figsize=(20, 5), sharex=True)\n",
    "max_y = 0\n",
    "\n",
    "for eixo, dataframe in enumerate([df, df_adimplente, df_inadimplente]):\n",
    "  df_to_plot = dataframe[coluna].value_counts().reset_index()\n",
    "  df_to_plot.columns = [coluna, 'frequencia_absoluta']\n",
    "  df_to_plot.sort_values(by=[coluna], inplace=True)\n",
    "\n",
    "  f = sns.barplot(data=df_to_plot, x=coluna, y='frequencia_absoluta', ax=eixos[eixo])\n",
    "  f.set(title=titulos[eixo], xlabel=coluna.capitalize(), ylabel='Frequência Absoluta')\n",
    "  f.set_xticklabels(labels=f.get_xticklabels(), rotation=90)\n",
    "\n",
    "  _, max_y_f = f.get_ylim()\n",
    "  max_y = max_y_f if max_y_f > max_y else max_y\n",
    "\n",
    "for eixo in eixos:\n",
    "  eixo.set(ylim=(0, max_y))\n",
    "\n",
    "plt.show()"
   ]
  },
  {
   "cell_type": "markdown",
   "id": "874aa5e0",
   "metadata": {
    "papermill": {
     "duration": 0.0236,
     "end_time": "2023-12-30T17:42:03.674670",
     "exception": false,
     "start_time": "2023-12-30T17:42:03.651070",
     "status": "completed"
    },
    "tags": []
   },
   "source": [
    "Neste gráfico, é possível observar que uma quantidade expressiva de clientes inadimplentes possui salários anuais abaixo de 40 mil reais."
   ]
  },
  {
   "cell_type": "code",
   "execution_count": 33,
   "id": "6da23555",
   "metadata": {
    "execution": {
     "iopub.execute_input": "2023-12-30T17:42:03.725227Z",
     "iopub.status.busy": "2023-12-30T17:42:03.724068Z",
     "iopub.status.idle": "2023-12-30T17:42:03.743409Z",
     "shell.execute_reply": "2023-12-30T17:42:03.742204Z"
    },
    "papermill": {
     "duration": 0.047798,
     "end_time": "2023-12-30T17:42:03.746035",
     "exception": false,
     "start_time": "2023-12-30T17:42:03.698237",
     "status": "completed"
    },
    "tags": []
   },
   "outputs": [
    {
     "data": {
      "text/html": [
       "<div>\n",
       "<style scoped>\n",
       "    .dataframe tbody tr th:only-of-type {\n",
       "        vertical-align: middle;\n",
       "    }\n",
       "\n",
       "    .dataframe tbody tr th {\n",
       "        vertical-align: top;\n",
       "    }\n",
       "\n",
       "    .dataframe thead th {\n",
       "        text-align: right;\n",
       "    }\n",
       "</style>\n",
       "<table border=\"1\" class=\"dataframe\">\n",
       "  <thead>\n",
       "    <tr style=\"text-align: right;\">\n",
       "      <th></th>\n",
       "      <th>idade</th>\n",
       "      <th>dependentes</th>\n",
       "      <th>meses_de_relacionamento</th>\n",
       "      <th>qtd_produtos</th>\n",
       "      <th>iteracoes_12m</th>\n",
       "      <th>meses_inativo_12m</th>\n",
       "      <th>limite_credito</th>\n",
       "      <th>valor_transacoes_12m</th>\n",
       "      <th>qtd_transacoes_12m</th>\n",
       "    </tr>\n",
       "  </thead>\n",
       "  <tbody>\n",
       "    <tr>\n",
       "      <th>0</th>\n",
       "      <td>45</td>\n",
       "      <td>3</td>\n",
       "      <td>39</td>\n",
       "      <td>5</td>\n",
       "      <td>3</td>\n",
       "      <td>1</td>\n",
       "      <td>12691.51</td>\n",
       "      <td>1144.90</td>\n",
       "      <td>42</td>\n",
       "    </tr>\n",
       "    <tr>\n",
       "      <th>1</th>\n",
       "      <td>49</td>\n",
       "      <td>5</td>\n",
       "      <td>44</td>\n",
       "      <td>6</td>\n",
       "      <td>2</td>\n",
       "      <td>1</td>\n",
       "      <td>8256.96</td>\n",
       "      <td>1291.45</td>\n",
       "      <td>33</td>\n",
       "    </tr>\n",
       "    <tr>\n",
       "      <th>2</th>\n",
       "      <td>51</td>\n",
       "      <td>3</td>\n",
       "      <td>36</td>\n",
       "      <td>4</td>\n",
       "      <td>0</td>\n",
       "      <td>1</td>\n",
       "      <td>3418.56</td>\n",
       "      <td>1887.72</td>\n",
       "      <td>20</td>\n",
       "    </tr>\n",
       "    <tr>\n",
       "      <th>4</th>\n",
       "      <td>40</td>\n",
       "      <td>3</td>\n",
       "      <td>21</td>\n",
       "      <td>5</td>\n",
       "      <td>0</td>\n",
       "      <td>1</td>\n",
       "      <td>4716.22</td>\n",
       "      <td>816.08</td>\n",
       "      <td>28</td>\n",
       "    </tr>\n",
       "    <tr>\n",
       "      <th>5</th>\n",
       "      <td>44</td>\n",
       "      <td>2</td>\n",
       "      <td>36</td>\n",
       "      <td>3</td>\n",
       "      <td>2</td>\n",
       "      <td>1</td>\n",
       "      <td>4010.69</td>\n",
       "      <td>1088.07</td>\n",
       "      <td>24</td>\n",
       "    </tr>\n",
       "  </tbody>\n",
       "</table>\n",
       "</div>"
      ],
      "text/plain": [
       "   idade  dependentes  meses_de_relacionamento  qtd_produtos  iteracoes_12m  \\\n",
       "0     45            3                       39             5              3   \n",
       "1     49            5                       44             6              2   \n",
       "2     51            3                       36             4              0   \n",
       "4     40            3                       21             5              0   \n",
       "5     44            2                       36             3              2   \n",
       "\n",
       "   meses_inativo_12m  limite_credito  valor_transacoes_12m  qtd_transacoes_12m  \n",
       "0                  1        12691.51               1144.90                  42  \n",
       "1                  1         8256.96               1291.45                  33  \n",
       "2                  1         3418.56               1887.72                  20  \n",
       "4                  1         4716.22                816.08                  28  \n",
       "5                  1         4010.69               1088.07                  24  "
      ]
     },
     "execution_count": 33,
     "metadata": {},
     "output_type": "execute_result"
    }
   ],
   "source": [
    "df.drop(['id', 'default'], axis=1).select_dtypes('number').head(n=5)"
   ]
  },
  {
   "cell_type": "code",
   "execution_count": 34,
   "id": "f0598dd3",
   "metadata": {
    "execution": {
     "iopub.execute_input": "2023-12-30T17:42:03.796332Z",
     "iopub.status.busy": "2023-12-30T17:42:03.795201Z",
     "iopub.status.idle": "2023-12-30T17:42:05.340143Z",
     "shell.execute_reply": "2023-12-30T17:42:05.338516Z"
    },
    "papermill": {
     "duration": 1.573967,
     "end_time": "2023-12-30T17:42:05.343994",
     "exception": false,
     "start_time": "2023-12-30T17:42:03.770027",
     "status": "completed"
    },
    "tags": []
   },
   "outputs": [
    {
     "data": {
      "image/png": "[encoded data removed]",
      "text/plain": [
       "<Figure size 2000x500 with 3 Axes>"
      ]
     },
     "metadata": {},
     "output_type": "display_data"
    }
   ],
   "source": [
    "coluna = 'dependentes'\n",
    "titulos = ['Número de Dependentes por Cliente', 'Número de Dependentes por Cliente Adimplentes', 'Número de Dependentes por Cliente Inadimplentes']\n",
    "\n",
    "eixo = 0\n",
    "max_y = 0\n",
    "figura, eixos = plt.subplots(1,3, figsize=(20, 5), sharex=True)\n",
    "\n",
    "for dataframe in [df, df_adimplente, df_inadimplente]:\n",
    "\n",
    "  f = sns.histplot(x=coluna, data=dataframe, stat='count', ax=eixos[eixo])\n",
    "  f.set(title=titulos[eixo], xlabel=coluna.capitalize(), ylabel='Frequência Absoluta')\n",
    "\n",
    "  _, max_y_f = f.get_ylim()\n",
    "  max_y = max_y_f if max_y_f > max_y else max_y\n",
    "  f.set(ylim=(0, max_y))\n",
    "\n",
    "  eixo += 1\n",
    "\n",
    "figura.show()"
   ]
  },
  {
   "cell_type": "markdown",
   "id": "23b16554",
   "metadata": {
    "papermill": {
     "duration": 0.026141,
     "end_time": "2023-12-30T17:42:05.395065",
     "exception": false,
     "start_time": "2023-12-30T17:42:05.368924",
     "status": "completed"
    },
    "tags": []
   },
   "source": [
    "Aqui é possível notar que os clientes com 2 ou 3 dependentes têm maior tendência à inadimplência."
   ]
  },
  {
   "cell_type": "code",
   "execution_count": 35,
   "id": "82df5a64",
   "metadata": {
    "execution": {
     "iopub.execute_input": "2023-12-30T17:42:05.448807Z",
     "iopub.status.busy": "2023-12-30T17:42:05.448398Z",
     "iopub.status.idle": "2023-12-30T17:42:07.388669Z",
     "shell.execute_reply": "2023-12-30T17:42:07.387465Z"
    },
    "papermill": {
     "duration": 1.972229,
     "end_time": "2023-12-30T17:42:07.391628",
     "exception": false,
     "start_time": "2023-12-30T17:42:05.419399",
     "status": "completed"
    },
    "tags": []
   },
   "outputs": [
    {
     "data": {
      "image/png": "[encoded data removed]",
      "text/plain": [
       "<Figure size 2000x500 with 3 Axes>"
      ]
     },
     "metadata": {},
     "output_type": "display_data"
    }
   ],
   "source": [
    "coluna = 'valor_transacoes_12m'\n",
    "titulos = ['Valor de Transações por Cliente', 'Valor de Transações por Cliente Adimplentes', 'Valor de Transações por Cliente Inadimplentes']\n",
    "\n",
    "eixo = 0\n",
    "max_y = 0\n",
    "figura, eixos = plt.subplots(1,3, figsize=(20, 5), sharex=True)\n",
    "\n",
    "for dataframe in [df, df_adimplente, df_inadimplente]:\n",
    "\n",
    "  f = sns.histplot(x=coluna, data=dataframe, stat='count', ax=eixos[eixo])\n",
    "  f.set(title=titulos[eixo], xlabel=coluna.capitalize(), ylabel='Frequência')\n",
    "\n",
    "  _, max_y_f = f.get_ylim()\n",
    "  max_y = max_y_f if max_y_f > max_y else max_y\n",
    "  f.set(ylim=(0, max_y))\n",
    "\n",
    "  eixo += 1\n",
    "\n",
    "figura.show()"
   ]
  },
  {
   "cell_type": "markdown",
   "id": "e729be4d",
   "metadata": {
    "papermill": {
     "duration": 0.025805,
     "end_time": "2023-12-30T17:42:07.442565",
     "exception": false,
     "start_time": "2023-12-30T17:42:07.416760",
     "status": "completed"
    },
    "tags": []
   },
   "source": [
    "O gráfico acima mostra que os clientes com transações anuais de 2 mil a 3 mil reais são os mais propensos a atrasar seus pagamentos."
   ]
  },
  {
   "cell_type": "code",
   "execution_count": 36,
   "id": "c1975bff",
   "metadata": {
    "execution": {
     "iopub.execute_input": "2023-12-30T17:42:07.496265Z",
     "iopub.status.busy": "2023-12-30T17:42:07.495533Z",
     "iopub.status.idle": "2023-12-30T17:42:08.888042Z",
     "shell.execute_reply": "2023-12-30T17:42:08.886722Z"
    },
    "papermill": {
     "duration": 1.423711,
     "end_time": "2023-12-30T17:42:08.891197",
     "exception": false,
     "start_time": "2023-12-30T17:42:07.467486",
     "status": "completed"
    },
    "tags": []
   },
   "outputs": [
    {
     "data": {
      "image/png": "[encoded data removed]",
      "text/plain": [
       "<Figure size 2000x500 with 3 Axes>"
      ]
     },
     "metadata": {},
     "output_type": "display_data"
    }
   ],
   "source": [
    "coluna = 'idade'\n",
    "titulos = ['Idade dos Clientes', 'Idade dos Clientes Adimplentes', 'Idade dos Clientes Inadimplentes']\n",
    "\n",
    "eixo = 0\n",
    "max_y = 0\n",
    "figura, eixos = plt.subplots(1,3, figsize=(20, 5), sharex=True)\n",
    "\n",
    "for dataframe in [df, df_adimplente, df_inadimplente]:\n",
    "\n",
    "  f = sns.histplot(x=coluna, data=dataframe, stat='count', ax=eixos[eixo])\n",
    "  f.set(title=titulos[eixo], xlabel=coluna.capitalize(), ylabel='Frequência Absoluta')\n",
    "\n",
    "  _, max_y_f = f.get_ylim()\n",
    "  max_y = max_y_f if max_y_f > max_y else max_y\n",
    "  f.set(ylim=(0, max_y))\n",
    "\n",
    "  eixo += 1\n",
    "\n",
    "figura.show()"
   ]
  },
  {
   "cell_type": "markdown",
   "id": "2ebd309d",
   "metadata": {
    "papermill": {
     "duration": 0.025848,
     "end_time": "2023-12-30T17:42:08.944519",
     "exception": false,
     "start_time": "2023-12-30T17:42:08.918671",
     "status": "completed"
    },
    "tags": []
   },
   "source": [
    "O gráfico sugere que os clientes que estao entre seus 40 a 45 anos são mais propensos a atrasar o pagamento de suas contas"
   ]
  },
  {
   "cell_type": "code",
   "execution_count": 37,
   "id": "30138d0f",
   "metadata": {
    "execution": {
     "iopub.execute_input": "2023-12-30T17:42:08.998044Z",
     "iopub.status.busy": "2023-12-30T17:42:08.997635Z",
     "iopub.status.idle": "2023-12-30T17:42:10.583539Z",
     "shell.execute_reply": "2023-12-30T17:42:10.582291Z"
    },
    "papermill": {
     "duration": 1.616523,
     "end_time": "2023-12-30T17:42:10.586700",
     "exception": false,
     "start_time": "2023-12-30T17:42:08.970177",
     "status": "completed"
    },
    "tags": []
   },
   "outputs": [
    {
     "data": {
      "image/png": "[encoded data removed]",
      "text/plain": [
       "<Figure size 2000x500 with 3 Axes>"
      ]
     },
     "metadata": {},
     "output_type": "display_data"
    }
   ],
   "source": [
    "coluna = 'limite_credito'\n",
    "titulos = ['Limite de crédito dos Clientes', 'Limite de crédito dos Clientes Adimplentes', 'Limite de crédito dos Clientes Inadimplentes']\n",
    "\n",
    "eixo = 0\n",
    "max_y = 0\n",
    "figura, eixos = plt.subplots(1,3, figsize=(20, 5), sharex=True)\n",
    "\n",
    "for dataframe in [df, df_adimplente, df_inadimplente]:\n",
    "\n",
    "  f = sns.histplot(x=coluna, data=dataframe, stat='count', ax=eixos[eixo])\n",
    "  f.set(title=titulos[eixo], xlabel=coluna.capitalize(), ylabel='Frequência Absoluta')\n",
    "\n",
    "  _, max_y_f = f.get_ylim()\n",
    "  max_y = max_y_f if max_y_f > max_y else max_y\n",
    "  f.set(ylim=(0, max_y))\n",
    "\n",
    "  eixo += 1\n",
    "\n",
    "figura.show()"
   ]
  },
  {
   "cell_type": "markdown",
   "id": "78700a47",
   "metadata": {
    "papermill": {
     "duration": 0.035601,
     "end_time": "2023-12-30T17:42:10.654413",
     "exception": false,
     "start_time": "2023-12-30T17:42:10.618812",
     "status": "completed"
    },
    "tags": []
   },
   "source": [
    "O gráfico mostra que clientes com limite de crédito baixo são mais propensos a se tornarem inadimplentes."
   ]
  },
  {
   "cell_type": "markdown",
   "id": "18939228",
   "metadata": {
    "papermill": {
     "duration": 0.026452,
     "end_time": "2023-12-30T17:42:10.714855",
     "exception": false,
     "start_time": "2023-12-30T17:42:10.688403",
     "status": "completed"
    },
    "tags": []
   },
   "source": [
    "# Resumo"
   ]
  },
  {
   "cell_type": "markdown",
   "id": "7480dc53",
   "metadata": {
    "papermill": {
     "duration": 0.025748,
     "end_time": "2023-12-30T17:42:10.766991",
     "exception": false,
     "start_time": "2023-12-30T17:42:10.741243",
     "status": "completed"
    },
    "tags": []
   },
   "source": [
    "Nesse projeto, realizamos uma análise de inadimplência em uma instituição financeira. Utilizamos um conjunto com mais de 10.000 dados de clientes para identificar os fatores que mais contribuem para a inadimplência. Os resultados da análise mostram que os principais fatores de risco de inadimplência são:\n",
    "\n",
    "1. Estado civil dos clientes\n",
    "2. Salário anual\n",
    "3. Número de dependentes\n",
    "4. Idade  \n",
    "5. Limite de crédito\n",
    "\n",
    "Com isso, podemos determinar quais grupos têm uma maior tendência a se tornar inadimplente por um ou mais fatores."
   ]
  }
 ],
 "metadata": {
  "kaggle": {
   "accelerator": "none",
   "dataSources": [
    {
     "datasetId": 4225186,
     "sourceId": 7286183,
     "sourceType": "datasetVersion"
    }
   ],
   "dockerImageVersionId": 30626,
   "isGpuEnabled": false,
   "isInternetEnabled": false,
   "language": "python",
   "sourceType": "notebook"
  },
  "kernelspec": {
   "display_name": "Python 3",
   "language": "python",
   "name": "python3"
  },
  "language_info": {
   "codemirror_mode": {
    "name": "ipython",
    "version": 3
   },
   "file_extension": ".py",
   "mimetype": "text/x-python",
   "name": "python",
   "nbconvert_exporter": "python",
   "pygments_lexer": "ipython3",
   "version": "3.10.12"
  },
  "papermill": {
   "default_parameters": {},
   "duration": 19.462135,
   "end_time": "2023-12-30T17:42:11.617435",
   "environment_variables": {},
   "exception": null,
   "input_path": "__notebook__.ipynb",
   "output_path": "__notebook__.ipynb",
   "parameters": {},
   "start_time": "2023-12-30T17:41:52.155300",
   "version": "2.4.0"
  }
 },
 "nbformat": 4,
 "nbformat_minor": 5
}
